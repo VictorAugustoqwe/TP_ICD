{
  "nbformat": 4,
  "nbformat_minor": 0,
  "metadata": {
    "colab": {
      "name": "TrabalhoFinalICD",
      "provenance": [],
      "collapsed_sections": [
        "ZCT3oIuIY2nZ",
        "0ewKrBLYHPWA",
        "ZR_0f-a0HboA",
        "wxgP0SjcHm54",
        "ub-hhiJjHsu3",
        "ag9goKpjHzBP",
        "YchhQgHxF-bP",
        "lcg69P8zGIbQ",
        "vQU2kF0aGOuY",
        "RP0ajqtbGWJ_",
        "PVrM9jwRGa3p",
        "dLGG2aaQIVeA"
      ]
    },
    "kernelspec": {
      "name": "python3",
      "display_name": "Python 3"
    },
    "language_info": {
      "name": "python"
    }
  },
  "cells": [
    {
      "cell_type": "markdown",
      "metadata": {
        "id": "ZCT3oIuIY2nZ"
      },
      "source": [
        "# ICD - Projeto Final: Fatores que influenciam a vitória em League of Legends\n",
        "\n",
        "## By:\n",
        "\n",
        "     André Luiz Morato Barreto - 2020054170\n",
        "     \n",
        "     Matheus Marchesotti Dutra Ferraz - 2019007015\n",
        "\n",
        "     Lucas Mesquita Andrade - 2020054668\n",
        "\n",
        "     Victor Augusto de Lima Cruz - 2020054854\n",
        "     \n",
        "## External info:\n",
        "    \n",
        "    Link Video: \n",
        "    \n",
        "    Github: https://github.com/VictorAugustoqwe/TP_ICD\n"
      ]
    },
    {
      "cell_type": "markdown",
      "source": [
        "Esse relatório analisará os dados que já foram filtrados por outro dos notebooks presentes na pasta dados.\n",
        "Além disso, todos os notebooks utilizados para gerar os resultados aqui podem ser encontrados na mesma pasta."
      ],
      "metadata": {
        "id": "-4pz1hwbHhhJ"
      }
    },
    {
      "cell_type": "markdown",
      "source": [
        "# Introdução"
      ],
      "metadata": {
        "id": "0ewKrBLYHPWA"
      }
    },
    {
      "cell_type": "markdown",
      "source": [
        "Neste trabalho é feita uma análise de diferentes características de uma partida que podem influenciar a vitória de um time, algumas das quais não deveriam ter nenhum impacto significativo nas taxas de vitória."
      ],
      "metadata": {
        "id": "kEt-WwldHWtJ"
      }
    },
    {
      "cell_type": "markdown",
      "source": [
        "# Motivação"
      ],
      "metadata": {
        "id": "ZR_0f-a0HboA"
      }
    },
    {
      "cell_type": "markdown",
      "metadata": {
        "id": "p3SVd4i3Y2nd"
      },
      "source": [
        "A motivação pelo trabalho se dá pela importância que uma vitória pode ter no jogo eletrônico League of Legends, da empresa Riot Games, o qual está há anos nos 5 jogos mais jogados do mundo por número de jogadores mensais. O último campeonato mundial teve uma premiação de US$ 2,25 milhões, número que demonstra um pouco a seriedade e competitividade do jogo.\n",
        "\n",
        "Além da premiação direta por ganhar o campeonato, as equipes participantes e suas organizações também conseguem gerar receita por meio da venda de camisetas e outros itens com a estampa do time, o que está ligado à performance do time nos campeonatos dos quais participa.\n",
        "\n",
        "Outro ponto relevante é o crescimento dos sites de apostas, no Brasil em especial o \"Sportsbet\", no qual uma pessoa que conseguir prever bem o resultado de uma partida consegue ganhar bastante dinheiro."
      ]
    },
    {
      "cell_type": "markdown",
      "source": [
        "# Perguntas"
      ],
      "metadata": {
        "id": "wxgP0SjcHm54"
      }
    },
    {
      "cell_type": "markdown",
      "metadata": {
        "id": "q4ituvCRY2ne"
      },
      "source": [
        "1 - O lado no qual cada time joga no mapa tem influência na vitória?\n",
        "\n",
        "2 - A região da qual o time origina tem influência na vitória no campeonato mundial?\n",
        "\n",
        "3 - Os campeões mais escolhidos são os campeões que possuem as maiores taxas de vitória?"
      ]
    },
    {
      "cell_type": "markdown",
      "source": [
        "# Dados Utilizados"
      ],
      "metadata": {
        "id": "ub-hhiJjHsu3"
      }
    },
    {
      "cell_type": "markdown",
      "metadata": {
        "id": "ob2ynB0jY2nf"
      },
      "source": [
        "Para a realização deste projeto, foi utilizado apenas uma base de dados, que contém diversas informações sobre partidas oficiais de League of Legends.\n",
        "\n",
        "### League of Legends official matches data: 2015-2018\n",
        "**Descrição:** Conjunto de dados contendo informações sobre partidas em campeonatos oficiais de League of Legends em diversas regiões do planeta. Inclui informações sobre o resultado da partida, sua duração, a sigla do campeonato, o nome dos times competindo, o apelido dos jogadores que participaram de cada partida, seus respectivos campeões escolhidos, entre outras.\n",
        "\n",
        "**Fonte:** [League of Legends Competitive matches, 2015 to 2018](https://www.kaggle.com/chuckephron/leagueoflegends)"
      ]
    },
    {
      "cell_type": "markdown",
      "source": [
        "# Limpeza dos Dados"
      ],
      "metadata": {
        "id": "ag9goKpjHzBP"
      }
    },
    {
      "cell_type": "markdown",
      "metadata": {
        "id": "5kkT_qShY2ng"
      },
      "source": [
        "A limpeza feita retirou algumas informações consideradas desnecessárias para a análise, que inclui a remoção das colunas relacionadas ao ouro adquirido, aos monstros abatidos e às estruturas destruídas por cada equipe. Além disso, foram criadas duas novas colunas que contém a respectiva sigla da liga regional da qual cada equipe se origina."
      ]
    },
    {
      "cell_type": "markdown",
      "source": [
        "# Imports e definições iniciais"
      ],
      "metadata": {
        "id": "YchhQgHxF-bP"
      }
    },
    {
      "cell_type": "code",
      "execution_count": null,
      "metadata": {
        "colab": {
          "base_uri": "https://localhost:8080/"
        },
        "id": "AbAy0aIYFvCL",
        "outputId": "a0788cc7-5e4a-47e6-d499-bd7602da2fad"
      },
      "outputs": [
        {
          "output_type": "stream",
          "name": "stdout",
          "text": [
            "Mounted at /content/drive\n"
          ]
        }
      ],
      "source": [
        "from google.colab import drive\n",
        "drive.mount('/content/drive')"
      ]
    },
    {
      "cell_type": "code",
      "source": [
        "import pandas as pd\n",
        "import numpy as np\n",
        "import matplotlib.pyplot as plt\n",
        "import seaborn as sns\n",
        "from sklearn import metrics\n",
        "from sklearn.neighbors import KNeighborsRegressor\n",
        "from sklearn.model_selection import train_test_split\n",
        "from sklearn.model_selection import KFold\n",
        "from sklearn.linear_model import LogisticRegression\n",
        "from sklearn.ensemble import RandomForestClassifier"
      ],
      "metadata": {
        "id": "CDo1zJogFzih"
      },
      "execution_count": null,
      "outputs": []
    },
    {
      "cell_type": "code",
      "source": [
        "plt.rcParams['figure.figsize']  = (16, 10)\n",
        "plt.rcParams['axes.labelsize']  = 20\n",
        "plt.rcParams['axes.titlesize']  = 20\n",
        "plt.rcParams['legend.fontsize'] = 20\n",
        "plt.rcParams['xtick.labelsize'] = 20\n",
        "plt.rcParams['ytick.labelsize'] = 20\n",
        "plt.rcParams['lines.linewidth'] = 4"
      ],
      "metadata": {
        "id": "DD2mXH0nFzuw"
      },
      "execution_count": null,
      "outputs": []
    },
    {
      "cell_type": "code",
      "source": [
        "def despine(ax=None):\n",
        "    if ax is None:\n",
        "        ax = plt.gca()\n",
        "    # Hide the right and top spines\n",
        "    ax.spines['right'].set_visible(False)\n",
        "    ax.spines['top'].set_visible(False)\n",
        "\n",
        "    # Only show ticks on the left and bottom spines\n",
        "    ax.yaxis.set_ticks_position('left')\n",
        "    ax.xaxis.set_ticks_position('bottom')"
      ],
      "metadata": {
        "id": "W9_huwKNGt7y"
      },
      "execution_count": null,
      "outputs": []
    },
    {
      "cell_type": "code",
      "source": [
        "leagueoflegends = pd.read_csv('/content/drive/MyDrive/LolDatabase/Dataframe_Filtrado.csv',header=0)\n",
        "winrates = pd.read_csv('/content/drive/MyDrive/LolDatabase/Winrates.csv',header=0)"
      ],
      "metadata": {
        "id": "ew68efH8F2Nh"
      },
      "execution_count": null,
      "outputs": []
    },
    {
      "cell_type": "code",
      "source": [
        "leagueoflegends.head()"
      ],
      "metadata": {
        "colab": {
          "base_uri": "https://localhost:8080/",
          "height": 444
        },
        "id": "Hh_RQk7mGK20",
        "outputId": "ed67c8d9-1056-4933-f830-ca80129b3c5c"
      },
      "execution_count": null,
      "outputs": [
        {
          "output_type": "execute_result",
          "data": {
            "text/html": [
              "\n",
              "  <div id=\"df-a5d3ca0f-9cfa-49f3-84c7-a84d1ef3174d\">\n",
              "    <div class=\"colab-df-container\">\n",
              "      <div>\n",
              "<style scoped>\n",
              "    .dataframe tbody tr th:only-of-type {\n",
              "        vertical-align: middle;\n",
              "    }\n",
              "\n",
              "    .dataframe tbody tr th {\n",
              "        vertical-align: top;\n",
              "    }\n",
              "\n",
              "    .dataframe thead th {\n",
              "        text-align: right;\n",
              "    }\n",
              "</style>\n",
              "<table border=\"1\" class=\"dataframe\">\n",
              "  <thead>\n",
              "    <tr style=\"text-align: right;\">\n",
              "      <th></th>\n",
              "      <th>League</th>\n",
              "      <th>Year</th>\n",
              "      <th>Season</th>\n",
              "      <th>Type</th>\n",
              "      <th>blueTeamLeague</th>\n",
              "      <th>blueTeamTag</th>\n",
              "      <th>bResult</th>\n",
              "      <th>rResult</th>\n",
              "      <th>redTeamTag</th>\n",
              "      <th>redTeamLeague</th>\n",
              "      <th>gamelength</th>\n",
              "      <th>blueTop</th>\n",
              "      <th>blueTopChamp</th>\n",
              "      <th>blueJungle</th>\n",
              "      <th>blueJungleChamp</th>\n",
              "      <th>blueMiddle</th>\n",
              "      <th>blueMiddleChamp</th>\n",
              "      <th>blueADC</th>\n",
              "      <th>blueADCChamp</th>\n",
              "      <th>blueSupport</th>\n",
              "      <th>blueSupportChamp</th>\n",
              "      <th>blueBans</th>\n",
              "      <th>redTop</th>\n",
              "      <th>redTopChamp</th>\n",
              "      <th>redJungle</th>\n",
              "      <th>redJungleChamp</th>\n",
              "      <th>redMiddle</th>\n",
              "      <th>redMiddleChamp</th>\n",
              "      <th>redADC</th>\n",
              "      <th>redADCChamp</th>\n",
              "      <th>redSupport</th>\n",
              "      <th>redSupportChamp</th>\n",
              "      <th>redBans</th>\n",
              "    </tr>\n",
              "  </thead>\n",
              "  <tbody>\n",
              "    <tr>\n",
              "      <th>0</th>\n",
              "      <td>NALCS</td>\n",
              "      <td>2015</td>\n",
              "      <td>Spring</td>\n",
              "      <td>Season</td>\n",
              "      <td>NALCS</td>\n",
              "      <td>TSM</td>\n",
              "      <td>1</td>\n",
              "      <td>0</td>\n",
              "      <td>C9</td>\n",
              "      <td>NALCS</td>\n",
              "      <td>40</td>\n",
              "      <td>Dyrus</td>\n",
              "      <td>Irelia</td>\n",
              "      <td>Santorin</td>\n",
              "      <td>RekSai</td>\n",
              "      <td>Bjergsen</td>\n",
              "      <td>Ahri</td>\n",
              "      <td>WildTurtle</td>\n",
              "      <td>Jinx</td>\n",
              "      <td>Lustboy</td>\n",
              "      <td>Janna</td>\n",
              "      <td>['Rumble', 'Kassadin', 'Lissandra']</td>\n",
              "      <td>Balls</td>\n",
              "      <td>Gnar</td>\n",
              "      <td>Meteos</td>\n",
              "      <td>Elise</td>\n",
              "      <td>Hai</td>\n",
              "      <td>Fizz</td>\n",
              "      <td>Sneaky</td>\n",
              "      <td>Sivir</td>\n",
              "      <td>LemonNation</td>\n",
              "      <td>Thresh</td>\n",
              "      <td>['Tristana', 'Leblanc', 'Nidalee']</td>\n",
              "    </tr>\n",
              "    <tr>\n",
              "      <th>1</th>\n",
              "      <td>NALCS</td>\n",
              "      <td>2015</td>\n",
              "      <td>Spring</td>\n",
              "      <td>Season</td>\n",
              "      <td>NALCS</td>\n",
              "      <td>CST</td>\n",
              "      <td>0</td>\n",
              "      <td>1</td>\n",
              "      <td>DIG</td>\n",
              "      <td>NALCS</td>\n",
              "      <td>38</td>\n",
              "      <td>Cris</td>\n",
              "      <td>Gnar</td>\n",
              "      <td>Impaler</td>\n",
              "      <td>Rengar</td>\n",
              "      <td>Jesiz</td>\n",
              "      <td>Ahri</td>\n",
              "      <td>Mash</td>\n",
              "      <td>Caitlyn</td>\n",
              "      <td>Sheep</td>\n",
              "      <td>Leona</td>\n",
              "      <td>['Kassadin', 'Sivir', 'Lissandra']</td>\n",
              "      <td>Gamsu</td>\n",
              "      <td>Irelia</td>\n",
              "      <td>Crumbzz</td>\n",
              "      <td>JarvanIV</td>\n",
              "      <td>Shiphtur</td>\n",
              "      <td>Azir</td>\n",
              "      <td>CoreJJ</td>\n",
              "      <td>Corki</td>\n",
              "      <td>KiWiKiD</td>\n",
              "      <td>Annie</td>\n",
              "      <td>['RekSai', 'Janna', 'Leblanc']</td>\n",
              "    </tr>\n",
              "    <tr>\n",
              "      <th>2</th>\n",
              "      <td>NALCS</td>\n",
              "      <td>2015</td>\n",
              "      <td>Spring</td>\n",
              "      <td>Season</td>\n",
              "      <td>NALCS</td>\n",
              "      <td>WFX</td>\n",
              "      <td>1</td>\n",
              "      <td>0</td>\n",
              "      <td>GV</td>\n",
              "      <td>NALCS</td>\n",
              "      <td>40</td>\n",
              "      <td>Flaresz</td>\n",
              "      <td>Renekton</td>\n",
              "      <td>ShorterACE</td>\n",
              "      <td>Rengar</td>\n",
              "      <td>Pobelter</td>\n",
              "      <td>Fizz</td>\n",
              "      <td>Altec</td>\n",
              "      <td>Sivir</td>\n",
              "      <td>Gleeb</td>\n",
              "      <td>Annie</td>\n",
              "      <td>['JarvanIV', 'Lissandra', 'Kassadin']</td>\n",
              "      <td>Hauntzer</td>\n",
              "      <td>Sion</td>\n",
              "      <td>Saintvicious</td>\n",
              "      <td>LeeSin</td>\n",
              "      <td>Keane</td>\n",
              "      <td>Azir</td>\n",
              "      <td>Cop</td>\n",
              "      <td>Corki</td>\n",
              "      <td>BunnyFuFuu</td>\n",
              "      <td>Janna</td>\n",
              "      <td>['Leblanc', 'Zed', 'RekSai']</td>\n",
              "    </tr>\n",
              "    <tr>\n",
              "      <th>3</th>\n",
              "      <td>NALCS</td>\n",
              "      <td>2015</td>\n",
              "      <td>Spring</td>\n",
              "      <td>Season</td>\n",
              "      <td>NALCS</td>\n",
              "      <td>TIP</td>\n",
              "      <td>0</td>\n",
              "      <td>1</td>\n",
              "      <td>TL</td>\n",
              "      <td>NALCS</td>\n",
              "      <td>41</td>\n",
              "      <td>Rhux</td>\n",
              "      <td>Irelia</td>\n",
              "      <td>Rush</td>\n",
              "      <td>JarvanIV</td>\n",
              "      <td>XiaoWeiXiao</td>\n",
              "      <td>Leblanc</td>\n",
              "      <td>Apollo</td>\n",
              "      <td>Sivir</td>\n",
              "      <td>Adrian</td>\n",
              "      <td>Thresh</td>\n",
              "      <td>['Annie', 'Lissandra', 'Kassadin']</td>\n",
              "      <td>Quas</td>\n",
              "      <td>Gnar</td>\n",
              "      <td>IWDominate</td>\n",
              "      <td>Nunu</td>\n",
              "      <td>Fenix</td>\n",
              "      <td>Lulu</td>\n",
              "      <td>KEITH</td>\n",
              "      <td>KogMaw</td>\n",
              "      <td>Xpecial</td>\n",
              "      <td>Janna</td>\n",
              "      <td>['RekSai', 'Rumble', 'LeeSin']</td>\n",
              "    </tr>\n",
              "    <tr>\n",
              "      <th>4</th>\n",
              "      <td>NALCS</td>\n",
              "      <td>2015</td>\n",
              "      <td>Spring</td>\n",
              "      <td>Season</td>\n",
              "      <td>NALCS</td>\n",
              "      <td>CLG</td>\n",
              "      <td>1</td>\n",
              "      <td>0</td>\n",
              "      <td>T8</td>\n",
              "      <td>NALCS</td>\n",
              "      <td>35</td>\n",
              "      <td>Benny</td>\n",
              "      <td>Gnar</td>\n",
              "      <td>Xmithie</td>\n",
              "      <td>JarvanIV</td>\n",
              "      <td>Link</td>\n",
              "      <td>Lissandra</td>\n",
              "      <td>Doublelift</td>\n",
              "      <td>Tristana</td>\n",
              "      <td>aphromoo</td>\n",
              "      <td>Janna</td>\n",
              "      <td>['Irelia', 'Pantheon', 'Kassadin']</td>\n",
              "      <td>CaliTrlolz8</td>\n",
              "      <td>Sion</td>\n",
              "      <td>Porpoise8</td>\n",
              "      <td>RekSai</td>\n",
              "      <td>Slooshi8</td>\n",
              "      <td>Lulu</td>\n",
              "      <td>Maplestreet8</td>\n",
              "      <td>Corki</td>\n",
              "      <td>Dodo8</td>\n",
              "      <td>Annie</td>\n",
              "      <td>['Rumble', 'Sivir', 'Rengar']</td>\n",
              "    </tr>\n",
              "  </tbody>\n",
              "</table>\n",
              "</div>\n",
              "      <button class=\"colab-df-convert\" onclick=\"convertToInteractive('df-a5d3ca0f-9cfa-49f3-84c7-a84d1ef3174d')\"\n",
              "              title=\"Convert this dataframe to an interactive table.\"\n",
              "              style=\"display:none;\">\n",
              "        \n",
              "  <svg xmlns=\"http://www.w3.org/2000/svg\" height=\"24px\"viewBox=\"0 0 24 24\"\n",
              "       width=\"24px\">\n",
              "    <path d=\"M0 0h24v24H0V0z\" fill=\"none\"/>\n",
              "    <path d=\"M18.56 5.44l.94 2.06.94-2.06 2.06-.94-2.06-.94-.94-2.06-.94 2.06-2.06.94zm-11 1L8.5 8.5l.94-2.06 2.06-.94-2.06-.94L8.5 2.5l-.94 2.06-2.06.94zm10 10l.94 2.06.94-2.06 2.06-.94-2.06-.94-.94-2.06-.94 2.06-2.06.94z\"/><path d=\"M17.41 7.96l-1.37-1.37c-.4-.4-.92-.59-1.43-.59-.52 0-1.04.2-1.43.59L10.3 9.45l-7.72 7.72c-.78.78-.78 2.05 0 2.83L4 21.41c.39.39.9.59 1.41.59.51 0 1.02-.2 1.41-.59l7.78-7.78 2.81-2.81c.8-.78.8-2.07 0-2.86zM5.41 20L4 18.59l7.72-7.72 1.47 1.35L5.41 20z\"/>\n",
              "  </svg>\n",
              "      </button>\n",
              "      \n",
              "  <style>\n",
              "    .colab-df-container {\n",
              "      display:flex;\n",
              "      flex-wrap:wrap;\n",
              "      gap: 12px;\n",
              "    }\n",
              "\n",
              "    .colab-df-convert {\n",
              "      background-color: #E8F0FE;\n",
              "      border: none;\n",
              "      border-radius: 50%;\n",
              "      cursor: pointer;\n",
              "      display: none;\n",
              "      fill: #1967D2;\n",
              "      height: 32px;\n",
              "      padding: 0 0 0 0;\n",
              "      width: 32px;\n",
              "    }\n",
              "\n",
              "    .colab-df-convert:hover {\n",
              "      background-color: #E2EBFA;\n",
              "      box-shadow: 0px 1px 2px rgba(60, 64, 67, 0.3), 0px 1px 3px 1px rgba(60, 64, 67, 0.15);\n",
              "      fill: #174EA6;\n",
              "    }\n",
              "\n",
              "    [theme=dark] .colab-df-convert {\n",
              "      background-color: #3B4455;\n",
              "      fill: #D2E3FC;\n",
              "    }\n",
              "\n",
              "    [theme=dark] .colab-df-convert:hover {\n",
              "      background-color: #434B5C;\n",
              "      box-shadow: 0px 1px 3px 1px rgba(0, 0, 0, 0.15);\n",
              "      filter: drop-shadow(0px 1px 2px rgba(0, 0, 0, 0.3));\n",
              "      fill: #FFFFFF;\n",
              "    }\n",
              "  </style>\n",
              "\n",
              "      <script>\n",
              "        const buttonEl =\n",
              "          document.querySelector('#df-a5d3ca0f-9cfa-49f3-84c7-a84d1ef3174d button.colab-df-convert');\n",
              "        buttonEl.style.display =\n",
              "          google.colab.kernel.accessAllowed ? 'block' : 'none';\n",
              "\n",
              "        async function convertToInteractive(key) {\n",
              "          const element = document.querySelector('#df-a5d3ca0f-9cfa-49f3-84c7-a84d1ef3174d');\n",
              "          const dataTable =\n",
              "            await google.colab.kernel.invokeFunction('convertToInteractive',\n",
              "                                                     [key], {});\n",
              "          if (!dataTable) return;\n",
              "\n",
              "          const docLinkHtml = 'Like what you see? Visit the ' +\n",
              "            '<a target=\"_blank\" href=https://colab.research.google.com/notebooks/data_table.ipynb>data table notebook</a>'\n",
              "            + ' to learn more about interactive tables.';\n",
              "          element.innerHTML = '';\n",
              "          dataTable['output_type'] = 'display_data';\n",
              "          await google.colab.output.renderOutput(dataTable, element);\n",
              "          const docLink = document.createElement('div');\n",
              "          docLink.innerHTML = docLinkHtml;\n",
              "          element.appendChild(docLink);\n",
              "        }\n",
              "      </script>\n",
              "    </div>\n",
              "  </div>\n",
              "  "
            ],
            "text/plain": [
              "  League  Year  ... redSupportChamp                             redBans\n",
              "0  NALCS  2015  ...          Thresh  ['Tristana', 'Leblanc', 'Nidalee']\n",
              "1  NALCS  2015  ...           Annie      ['RekSai', 'Janna', 'Leblanc']\n",
              "2  NALCS  2015  ...           Janna        ['Leblanc', 'Zed', 'RekSai']\n",
              "3  NALCS  2015  ...           Janna      ['RekSai', 'Rumble', 'LeeSin']\n",
              "4  NALCS  2015  ...           Annie       ['Rumble', 'Sivir', 'Rengar']\n",
              "\n",
              "[5 rows x 33 columns]"
            ]
          },
          "metadata": {},
          "execution_count": 6
        }
      ]
    },
    {
      "cell_type": "markdown",
      "source": [
        "# Análise Exploratória"
      ],
      "metadata": {
        "id": "lcg69P8zGIbQ"
      }
    },
    {
      "cell_type": "markdown",
      "source": [
        "Nessa parte fazemos uma caracterização inicial dos dados, junto com algumas visualizações que são pertinentes para as análises realizadas."
      ],
      "metadata": {
        "id": "PDli4L6CXl43"
      }
    },
    {
      "cell_type": "code",
      "source": [
        "plot = leagueoflegends['League'].value_counts().plot.bar(color='#40802b')\n",
        "plot.set_title('Número de partidas de cada liga')\n",
        "plot.set_ylabel('Número de partidas')\n",
        "despine()"
      ],
      "metadata": {
        "colab": {
          "base_uri": "https://localhost:8080/",
          "height": 670
        },
        "id": "b-BcRe1iY_RD",
        "outputId": "d96b4b99-1a7d-487b-f7b8-f345aae56f45"
      },
      "execution_count": null,
      "outputs": [
        {
          "output_type": "display_data",
          "data": {
            "image/png": "[encoded data removed]",
            "text/plain": [
              "<Figure size 1152x720 with 1 Axes>"
            ]
          },
          "metadata": {
            "needs_background": "light"
          }
        }
      ]
    },
    {
      "cell_type": "code",
      "source": [
        "resultados = leagueoflegends[['bResult','rResult']]\n",
        "azuis = leagueoflegends[leagueoflegends['bResult'] == 1]\n",
        "vermelhos = leagueoflegends[leagueoflegends['rResult'] == 1]\n",
        "jogos = len(leagueoflegends)\n",
        "azuis = azuis['bResult'].sum() / jogos\n",
        "vermelhos = vermelhos['rResult'].sum() / jogos\n",
        "\n",
        "fig = plt.figure()\n",
        "ax = fig.add_axes([0,0,0.3,0.5])\n",
        "langs = ['azul', 'vermelho']\n",
        "students = [azuis, vermelhos]\n",
        "bar = ax.bar(langs, students, width=0.8)\n",
        "\n",
        "ax.set_ylabel('proporção de vitórias')\n",
        "ax.set_title('Proporção de vitórias em cada lado')\n",
        "\n",
        "bar[0].set_color('#68cbfc')\n",
        "bar[1].set_color('#ff4242')\n",
        "plt.show()"
      ],
      "metadata": {
        "colab": {
          "base_uri": "https://localhost:8080/",
          "height": 439
        },
        "id": "8BRmrySWZB_C",
        "outputId": "a9fecee4-0dac-4fa2-9cc6-bc5891d8a64e"
      },
      "execution_count": null,
      "outputs": [
        {
          "output_type": "display_data",
          "data": {
            "image/png": "[encoded data removed]",
            "text/plain": [
              "<Figure size 1152x720 with 1 Axes>"
            ]
          },
          "metadata": {
            "needs_background": "light"
          }
        }
      ]
    },
    {
      "cell_type": "code",
      "source": [
        "#PLOTAR VITORIAS POR LADO POR REGIÃO TIRAR MSI WC RR E IEM\n",
        "ligas = leagueoflegends['League'].unique()\n",
        "regioes = ligas[:-4]\n",
        "vit_azuis = []\n",
        "vit_vermelhas = []\n",
        "for regiao in regioes:\n",
        "  jogos = leagueoflegends[leagueoflegends['League'] == regiao]\n",
        "  soma = jogos[['bResult','rResult']].sum()\n",
        "  vit_azuis.append(soma['bResult'])\n",
        "  vit_vermelhas.append(soma['rResult'])\n",
        "vit_azuis = np.array(vit_azuis)\n",
        "vit_vermelhas = np.array(vit_vermelhas)\n",
        "\n",
        "width = 0.30  # the width of the bars\n",
        "\n",
        "#Comparando entre Random forest\n",
        "fig, ax = plt.subplots()\n",
        "x = np.arange(len(regioes))\n",
        "\n",
        "azul = ax.bar(x - 1/2*width, vit_azuis, width, label='azul', color='#68cbfc')\n",
        "vermelho = ax.bar(x + 1/2*width, vit_vermelhas, width, label='vermelho', color='#ff4242')\n",
        "\n",
        "ax.set_ylabel('número de vitórias')\n",
        "ax.set_title('Número de vitórias por Liga e lado')\n",
        "ax.set_xticks(x)\n",
        "ax.set_xticklabels(regioes)\n",
        "\n",
        "despine()"
      ],
      "metadata": {
        "id": "JBd7sBZubWZQ",
        "colab": {
          "base_uri": "https://localhost:8080/",
          "height": 623
        },
        "outputId": "f31fee69-cbdc-4542-c60d-fb0b3ac0f07e"
      },
      "execution_count": null,
      "outputs": [
        {
          "output_type": "display_data",
          "data": {
            "image/png": "[encoded data removed]",
            "text/plain": [
              "<Figure size 1152x720 with 1 Axes>"
            ]
          },
          "metadata": {
            "needs_background": "light"
          }
        }
      ]
    },
    {
      "cell_type": "code",
      "source": [
        "#PLOTAR NÚMERO DE JOGOS POR LIGA NO MUNDIAL (WC)\n",
        "WC = leagueoflegends[leagueoflegends['League'] == 'WC']\n",
        "League_WC_game = pd.concat([WC['blueTeamLeague'],WC['redTeamLeague']])\n",
        "ax = League_WC_game.value_counts().plot.bar(color='#40802b')\n",
        "ax.set_ylabel('número de partidas')\n",
        "ax.set_title('Número de partidas por Região no Campeonato Mundial')\n",
        "despine()"
      ],
      "metadata": {
        "id": "_-BbxjeAc6Wy",
        "colab": {
          "base_uri": "https://localhost:8080/",
          "height": 670
        },
        "outputId": "bd2e0229-2e87-4525-b1f5-1c49ebd8ae56"
      },
      "execution_count": null,
      "outputs": [
        {
          "output_type": "display_data",
          "data": {
            "image/png": "[encoded data removed]",
            "text/plain": [
              "<Figure size 1152x720 with 1 Axes>"
            ]
          },
          "metadata": {
            "needs_background": "light"
          }
        }
      ]
    },
    {
      "cell_type": "markdown",
      "source": [
        "# Testes de Hipótese"
      ],
      "metadata": {
        "id": "vQU2kF0aGOuY"
      }
    },
    {
      "cell_type": "markdown",
      "source": [
        "Fazer testes de hipótese para todos, e para cada liga<br>\n",
        "H0: Lado não afeta quem vence - proporção = 0.5<br>\n",
        "H1: Lado afeta quem vence - proporção ≠ 0.5"
      ],
      "metadata": {
        "id": "oFkx4VExeE3t"
      }
    },
    {
      "cell_type": "code",
      "source": [
        "# gerar um intervalo de confiança para a taxa de vitórias no lado azul, com alpha = 0.05\n",
        "Blue = leagueoflegends['bResult']\n",
        "mediaBlue = Blue.sum() / len(leagueoflegends)\n",
        "desvio = np.std(Blue, ddof=1)\n",
        "inferior = mediaBlue - 1.96 * desvio / np.sqrt(len(leagueoflegends))\n",
        "superior = mediaBlue + 1.96 * desvio / np.sqrt(len(leagueoflegends))\n",
        "print('[%.4f, %.4f]' %(np.round(inferior, 4), np.round(superior,4)))"
      ],
      "metadata": {
        "colab": {
          "base_uri": "https://localhost:8080/"
        },
        "id": "qnBc-ZKjE4nE",
        "outputId": "dcf1f0ae-2f74-443a-e74f-f2d8b0cd3eab"
      },
      "execution_count": null,
      "outputs": [
        {
          "output_type": "stream",
          "name": "stdout",
          "text": [
            "[0.5329, 0.5553]\n"
          ]
        }
      ]
    },
    {
      "cell_type": "code",
      "source": [
        "# gerar um intervalo de confiança para a taxa de vitórias no lado azul para cada liga, com alpha = 0.05\n",
        "ligas = leagueoflegends['League'].unique()\n",
        "print('liga \\t partidas \\tintervalo \\n')\n",
        "for liga in ligas:\n",
        "  Blueliga = leagueoflegends[leagueoflegends['League'] == liga]\n",
        "  Blue = Blueliga['bResult']\n",
        "  mediaBlue = Blue.sum() / len(Blueliga)\n",
        "  desvio = np.std(Blue, ddof=1)\n",
        "  inferior = mediaBlue - 1.96 * desvio / np.sqrt(len(Blueliga))\n",
        "  superior = mediaBlue + 1.96 * desvio / np.sqrt(len(Blueliga))\n",
        "  npartidas = len(Blueliga)\n",
        "  print(liga,'\\t', npartidas, '\\t\\t[%.4f, %.4f]' %(np.round(inferior, 4), np.round(superior,4)))"
      ],
      "metadata": {
        "colab": {
          "base_uri": "https://localhost:8080/"
        },
        "id": "427YUPWfE66B",
        "outputId": "7ef8a374-f80f-4f54-f940-0c3776a99011"
      },
      "execution_count": null,
      "outputs": [
        {
          "output_type": "stream",
          "name": "stdout",
          "text": [
            "liga \t partidas \tintervalo \n",
            "\n",
            "NALCS \t 1272 \t\t[0.5198, 0.5745]\n",
            "EULCS \t 1099 \t\t[0.5064, 0.5654]\n",
            "LCK \t 1445 \t\t[0.5252, 0.5765]\n",
            "LMS \t 778 \t\t[0.5022, 0.5723]\n",
            "CBLoL \t 301 \t\t[0.4885, 0.6012]\n",
            "TCL \t 653 \t\t[0.5286, 0.6047]\n",
            "OPL \t 458 \t\t[0.4695, 0.5611]\n",
            "CLS \t 175 \t\t[0.4515, 0.5999]\n",
            "LLN \t 242 \t\t[0.4784, 0.6042]\n",
            "LJL \t 258 \t\t[0.4622, 0.5843]\n",
            "LCL \t 281 \t\t[0.4862, 0.6028]\n",
            "WC \t 308 \t\t[0.5194, 0.6300]\n",
            "MSI \t 111 \t\t[0.4935, 0.6776]\n",
            "IEM \t 138 \t\t[0.4674, 0.6340]\n",
            "RR \t 101 \t\t[0.3774, 0.5731]\n"
          ]
        }
      ]
    },
    {
      "cell_type": "markdown",
      "source": [
        "Notamos que o primeiro intervalo, considerando todas as partidas não contém o valor 0.50, o que indica que com alta probabilidade a escolha de lado afeta no resultado da partida.\n",
        "Nos intervalos subsequentes, considerando todas as ligas separadamente, notamos que os intervalos contemplam uma variedade maior de valores. Isso pode ser explicado pela diferença na quantidade de partidas registradas de cada liga."
      ],
      "metadata": {
        "id": "bv5DgS2RFGfD"
      }
    },
    {
      "cell_type": "markdown",
      "source": [
        "Nos jogos do mundial fazer o teste de hipótese:<br>\n",
        "H0: Liga não afeta quem vence - intervalo captura 50% para todas<br>\n",
        "H1: Liga afeta quem vence - intervalo não captura 50% para todas\n"
      ],
      "metadata": {
        "id": "Rc1XdU4qfSrB"
      }
    },
    {
      "cell_type": "code",
      "source": [
        "WC = leagueoflegends[leagueoflegends['League'] == 'WC']\n",
        "WC_league_diff = leagueoflegends[leagueoflegends['blueTeamLeague'] != leagueoflegends['redTeamLeague']]\n",
        "WC_league_diff = WC_league_diff[['blueTeamLeague','blueTeamTag','bResult','rResult','redTeamTag','redTeamLeague']]\n",
        "ligasRed = WC['redTeamLeague'].unique()\n",
        "ligasBlue = WC['blueTeamLeague'].unique()\n",
        "ligas = np.concatenate([ligasRed, ligasBlue])\n",
        "ligas = np.unique(ligas)\n",
        "print('liga \\t partidas \\tintervalo \\n')\n",
        "\n",
        "for liga in ligas:\n",
        "  jogosBlue = WC_league_diff[WC_league_diff['blueTeamLeague'] == liga]\n",
        "  jogosRed = WC_league_diff[WC_league_diff['redTeamLeague'] == liga]\n",
        "  jogos = pd.concat([jogosBlue['bResult'], jogosRed['rResult']])\n",
        "  desvio = np.std(jogos, ddof=1)\n",
        "  media = np.mean(jogos)\n",
        "  inferior = media - 1.96 * desvio / np.sqrt(len(jogos))\n",
        "  superior = media + 1.96 * desvio / np.sqrt(len(jogos))\n",
        "  print(liga,'\\t', len(jogos), '\\t\\t[%.4f, %.4f]' %(np.round(inferior, 4), np.round(superior,4)))"
      ],
      "metadata": {
        "id": "OGedYV0GtLrM",
        "colab": {
          "base_uri": "https://localhost:8080/"
        },
        "outputId": "d29bc80f-641d-45a5-f607-b14ec50a2968"
      },
      "execution_count": null,
      "outputs": [
        {
          "output_type": "stream",
          "name": "stdout",
          "text": [
            "liga \t partidas \tintervalo \n",
            "\n",
            "CBLoL \t 18 \t\t[0.0246, 0.4199]\n",
            "EULCS \t 104 \t\t[0.3558, 0.5480]\n",
            "LCK \t 128 \t\t[0.7094, 0.8531]\n",
            "LCL \t 10 \t\t[0.0799, 0.7201]\n",
            "LMS \t 70 \t\t[0.2177, 0.4394]\n",
            "LPL \t 106 \t\t[0.4138, 0.6051]\n",
            "NALCS \t 86 \t\t[0.3025, 0.5114]\n",
            "TCL \t 12 \t\t[0.0000, 0.0000]\n"
          ]
        }
      ]
    },
    {
      "cell_type": "markdown",
      "source": [
        "Notamos que algumas ligas claramente têm o intervalo distante do 0.5, como é o caso da LCK e do CBLoL, o que indica que a influência da liga nesses casos é facilmente observável. Em alguns casos com amostras menores, considerando ligas menos competitivas, o intervalo fica muito grande, e então fica difícil distinguir a influência da liga."
      ],
      "metadata": {
        "id": "0r8pCyksR61A"
      }
    },
    {
      "cell_type": "markdown",
      "source": [
        "# Regressão Linear"
      ],
      "metadata": {
        "id": "RP0ajqtbGWJ_"
      }
    },
    {
      "cell_type": "markdown",
      "source": [
        "Fazer regressão linear para verificar a natureza da relação entre taxa de escolha e a taxa de vitória dos personagens<br/>\n",
        "prever quem vai ganhar no mundial com base em lado e liga"
      ],
      "metadata": {
        "id": "5U-RLRLRkqLy"
      }
    },
    {
      "cell_type": "code",
      "source": [
        "from scipy import stats as ss\n",
        "\n",
        "Win = winrates.sort_values(by='npick',ascending=1)\n",
        "\n",
        "sns.regplot(x='pr', y='wr', data=Win, n_boot=10000,\n",
        "            line_kws={'color':'magenta', 'lw':4},\n",
        "            scatter_kws={'edgecolor':'k', 's':80, 'alpha':0.8})\n",
        "plt.title('Win rate campeoes')\n",
        "plt.ylabel(r'Win rate')\n",
        "plt.xlabel(r'Pick Rate')\n",
        "despine()\n",
        "\n",
        "print(ss.linregress(Win['pr'], Win['wr']))"
      ],
      "metadata": {
        "id": "U7k3vaRqLdVT",
        "colab": {
          "base_uri": "https://localhost:8080/",
          "height": 662
        },
        "outputId": "a4df62f7-76dc-401a-93a8-0891948362e8"
      },
      "execution_count": null,
      "outputs": [
        {
          "output_type": "stream",
          "name": "stdout",
          "text": [
            "LinregressResult(slope=0.14485403605499947, intercept=0.4772994837527812, rvalue=0.11142069148765406, pvalue=0.18998864258363515, stderr=0.10997970356045161)\n"
          ]
        },
        {
          "output_type": "display_data",
          "data": {
            "image/png": "[encoded data removed]",
            "text/plain": [
              "<Figure size 1152x720 with 1 Axes>"
            ]
          },
          "metadata": {
            "needs_background": "light"
          }
        }
      ]
    },
    {
      "cell_type": "markdown",
      "source": [
        "Pela regressão, notamos que é difícil fazer essa relação entre taxa de escolhas de um campeão e a taxa de vitórias dele, o que leva a acreditar que possivelmente há fatores que influenciam nas taxas de vitórias de um campeão que não podem ser explicados com os dados disponíveis. <br>\n",
        "Uma suspeita do grupo é o mecanismo de balanceamento do jogo, que ajusta os status de um personagem para equilibrar as taxas de vitórias. O jogo tende a interferir em mecânicas ou estratégias que são explorados pelos jogadores quando essas levam a taxas de vitórias consideravelmente acima de 50%."
      ],
      "metadata": {
        "id": "-ZIIO3z3082K"
      }
    },
    {
      "cell_type": "markdown",
      "source": [
        "# Classificação"
      ],
      "metadata": {
        "id": "PVrM9jwRGa3p"
      }
    },
    {
      "cell_type": "code",
      "source": [
        "classificationdf = WC.loc[:,['blueTeamLeague','redTeamLeague','bResult']].copy()\n",
        "classificationdf.head()"
      ],
      "metadata": {
        "colab": {
          "base_uri": "https://localhost:8080/",
          "height": 206
        },
        "id": "wxifBnFHM_30",
        "outputId": "834931e6-581b-44b5-f4c4-4353110c0ed4"
      },
      "execution_count": null,
      "outputs": [
        {
          "output_type": "execute_result",
          "data": {
            "text/html": [
              "\n",
              "  <div id=\"df-4c5ea7a7-2991-4d7e-ae03-915de76f42c8\">\n",
              "    <div class=\"colab-df-container\">\n",
              "      <div>\n",
              "<style scoped>\n",
              "    .dataframe tbody tr th:only-of-type {\n",
              "        vertical-align: middle;\n",
              "    }\n",
              "\n",
              "    .dataframe tbody tr th {\n",
              "        vertical-align: top;\n",
              "    }\n",
              "\n",
              "    .dataframe thead th {\n",
              "        text-align: right;\n",
              "    }\n",
              "</style>\n",
              "<table border=\"1\" class=\"dataframe\">\n",
              "  <thead>\n",
              "    <tr style=\"text-align: right;\">\n",
              "      <th></th>\n",
              "      <th>blueTeamLeague</th>\n",
              "      <th>redTeamLeague</th>\n",
              "      <th>bResult</th>\n",
              "    </tr>\n",
              "  </thead>\n",
              "  <tbody>\n",
              "    <tr>\n",
              "      <th>6391</th>\n",
              "      <td>LPL</td>\n",
              "      <td>LCK</td>\n",
              "      <td>0</td>\n",
              "    </tr>\n",
              "    <tr>\n",
              "      <th>6392</th>\n",
              "      <td>NALCS</td>\n",
              "      <td>EULCS</td>\n",
              "      <td>1</td>\n",
              "    </tr>\n",
              "    <tr>\n",
              "      <th>6393</th>\n",
              "      <td>TCL</td>\n",
              "      <td>LMS</td>\n",
              "      <td>0</td>\n",
              "    </tr>\n",
              "    <tr>\n",
              "      <th>6394</th>\n",
              "      <td>LMS</td>\n",
              "      <td>LPL</td>\n",
              "      <td>0</td>\n",
              "    </tr>\n",
              "    <tr>\n",
              "      <th>6395</th>\n",
              "      <td>LCK</td>\n",
              "      <td>LMS</td>\n",
              "      <td>1</td>\n",
              "    </tr>\n",
              "  </tbody>\n",
              "</table>\n",
              "</div>\n",
              "      <button class=\"colab-df-convert\" onclick=\"convertToInteractive('df-4c5ea7a7-2991-4d7e-ae03-915de76f42c8')\"\n",
              "              title=\"Convert this dataframe to an interactive table.\"\n",
              "              style=\"display:none;\">\n",
              "        \n",
              "  <svg xmlns=\"http://www.w3.org/2000/svg\" height=\"24px\"viewBox=\"0 0 24 24\"\n",
              "       width=\"24px\">\n",
              "    <path d=\"M0 0h24v24H0V0z\" fill=\"none\"/>\n",
              "    <path d=\"M18.56 5.44l.94 2.06.94-2.06 2.06-.94-2.06-.94-.94-2.06-.94 2.06-2.06.94zm-11 1L8.5 8.5l.94-2.06 2.06-.94-2.06-.94L8.5 2.5l-.94 2.06-2.06.94zm10 10l.94 2.06.94-2.06 2.06-.94-2.06-.94-.94-2.06-.94 2.06-2.06.94z\"/><path d=\"M17.41 7.96l-1.37-1.37c-.4-.4-.92-.59-1.43-.59-.52 0-1.04.2-1.43.59L10.3 9.45l-7.72 7.72c-.78.78-.78 2.05 0 2.83L4 21.41c.39.39.9.59 1.41.59.51 0 1.02-.2 1.41-.59l7.78-7.78 2.81-2.81c.8-.78.8-2.07 0-2.86zM5.41 20L4 18.59l7.72-7.72 1.47 1.35L5.41 20z\"/>\n",
              "  </svg>\n",
              "      </button>\n",
              "      \n",
              "  <style>\n",
              "    .colab-df-container {\n",
              "      display:flex;\n",
              "      flex-wrap:wrap;\n",
              "      gap: 12px;\n",
              "    }\n",
              "\n",
              "    .colab-df-convert {\n",
              "      background-color: #E8F0FE;\n",
              "      border: none;\n",
              "      border-radius: 50%;\n",
              "      cursor: pointer;\n",
              "      display: none;\n",
              "      fill: #1967D2;\n",
              "      height: 32px;\n",
              "      padding: 0 0 0 0;\n",
              "      width: 32px;\n",
              "    }\n",
              "\n",
              "    .colab-df-convert:hover {\n",
              "      background-color: #E2EBFA;\n",
              "      box-shadow: 0px 1px 2px rgba(60, 64, 67, 0.3), 0px 1px 3px 1px rgba(60, 64, 67, 0.15);\n",
              "      fill: #174EA6;\n",
              "    }\n",
              "\n",
              "    [theme=dark] .colab-df-convert {\n",
              "      background-color: #3B4455;\n",
              "      fill: #D2E3FC;\n",
              "    }\n",
              "\n",
              "    [theme=dark] .colab-df-convert:hover {\n",
              "      background-color: #434B5C;\n",
              "      box-shadow: 0px 1px 3px 1px rgba(0, 0, 0, 0.15);\n",
              "      filter: drop-shadow(0px 1px 2px rgba(0, 0, 0, 0.3));\n",
              "      fill: #FFFFFF;\n",
              "    }\n",
              "  </style>\n",
              "\n",
              "      <script>\n",
              "        const buttonEl =\n",
              "          document.querySelector('#df-4c5ea7a7-2991-4d7e-ae03-915de76f42c8 button.colab-df-convert');\n",
              "        buttonEl.style.display =\n",
              "          google.colab.kernel.accessAllowed ? 'block' : 'none';\n",
              "\n",
              "        async function convertToInteractive(key) {\n",
              "          const element = document.querySelector('#df-4c5ea7a7-2991-4d7e-ae03-915de76f42c8');\n",
              "          const dataTable =\n",
              "            await google.colab.kernel.invokeFunction('convertToInteractive',\n",
              "                                                     [key], {});\n",
              "          if (!dataTable) return;\n",
              "\n",
              "          const docLinkHtml = 'Like what you see? Visit the ' +\n",
              "            '<a target=\"_blank\" href=https://colab.research.google.com/notebooks/data_table.ipynb>data table notebook</a>'\n",
              "            + ' to learn more about interactive tables.';\n",
              "          element.innerHTML = '';\n",
              "          dataTable['output_type'] = 'display_data';\n",
              "          await google.colab.output.renderOutput(dataTable, element);\n",
              "          const docLink = document.createElement('div');\n",
              "          docLink.innerHTML = docLinkHtml;\n",
              "          element.appendChild(docLink);\n",
              "        }\n",
              "      </script>\n",
              "    </div>\n",
              "  </div>\n",
              "  "
            ],
            "text/plain": [
              "     blueTeamLeague redTeamLeague  bResult\n",
              "6391            LPL           LCK        0\n",
              "6392          NALCS         EULCS        1\n",
              "6393            TCL           LMS        0\n",
              "6394            LMS           LPL        0\n",
              "6395            LCK           LMS        1"
            ]
          },
          "metadata": {},
          "execution_count": 9
        }
      ]
    },
    {
      "cell_type": "code",
      "source": [
        "X = classificationdf[['blueTeamLeague','redTeamLeague']]\n",
        "y = classificationdf['bResult']\n",
        "\n",
        "X = pd.get_dummies(X)\n",
        "X = X.values\n",
        "y = y.values"
      ],
      "metadata": {
        "id": "uvFI8numObci"
      },
      "execution_count": null,
      "outputs": []
    },
    {
      "cell_type": "code",
      "source": [
        "X_train, X_final_test, y_train, y_final_test = train_test_split(X,y, test_size=0.2, shuffle = True)\n",
        "X = X_train\n",
        "y = y_train"
      ],
      "metadata": {
        "id": "69PGw3wMc8eq"
      },
      "execution_count": null,
      "outputs": []
    },
    {
      "cell_type": "code",
      "source": [
        "SPLITS = 5"
      ],
      "metadata": {
        "id": "LwinaUCYc4fh"
      },
      "execution_count": null,
      "outputs": []
    },
    {
      "cell_type": "code",
      "source": [
        "kf = KFold(n_splits=SPLITS)\n",
        "kf.get_n_splits(X)\n",
        "\n",
        "def realizarKfoldKnn(vizinhos, SPLITS, X, y, kf): \n",
        "  f1_knn = []\n",
        "  model_knn = KNeighborsRegressor(n_neighbors=vizinhos)\n",
        "  for train_index, test_index in kf.split(X):\n",
        "    X_treino, X_teste = X[train_index,:], X[test_index,:]\n",
        "    y_treino, y_teste = y[train_index], y[test_index]\n",
        "    model_knn.fit(X_treino, y_treino)\n",
        "    y_predict = model_knn.predict(X_teste).round()\n",
        "    f1_knn.append(metrics.f1_score(y_teste,y_predict))\n",
        "  f1_knn = np.array(f1_knn)\n",
        "  print(f1_knn, f1_knn.mean(), vizinhos)\n",
        "i = 5\n",
        "while i < 196:\n",
        "  realizarKfoldKnn(i, SPLITS, X, y, kf)\n",
        "  i = i + 5"
      ],
      "metadata": {
        "colab": {
          "base_uri": "https://localhost:8080/"
        },
        "id": "fTbhmW7ZSrbP",
        "outputId": "7a3856fa-357d-41a9-e024-4da78ced0710"
      },
      "execution_count": null,
      "outputs": [
        {
          "output_type": "stream",
          "name": "stdout",
          "text": [
            "[0.78481013 0.68421053 0.69565217 0.73015873 0.73239437] 0.7254451846334049 5\n",
            "[0.74666667 0.64615385 0.64516129 0.75       0.65671642] 0.6889396442107083 10\n",
            "[0.74666667 0.72       0.69565217 0.75675676 0.61111111] 0.7060373416895155 15\n",
            "[0.75       0.6031746  0.63492063 0.78787879 0.5625    ] 0.6676948051948053 20\n",
            "[0.82051282 0.67605634 0.66666667 0.78787879 0.61111111] 0.712445144839511 25\n",
            "[0.78947368 0.68421053 0.63636364 0.76470588 0.64705882] 0.7043625105544611 30\n",
            "[0.82051282 0.71052632 0.68493151 0.74285714 0.74358974] 0.7404835059196991 35\n",
            "[0.81481481 0.71052632 0.66666667 0.73529412 0.73417722] 0.7322958260215775 40\n",
            "[0.81481481 0.70886076 0.68493151 0.72289157 0.73417722] 0.7331351725225469 45\n",
            "[0.7804878  0.70886076 0.68493151 0.71794872 0.6835443 ] 0.7151546185934443 50\n",
            "[0.79518072 0.74074074 0.75294118 0.72289157 0.72941176] 0.7482331942147676 55\n",
            "[0.79518072 0.73809524 0.75294118 0.76470588 0.6835443 ] 0.7468934647215605 60\n",
            "[0.77272727 0.73809524 0.75294118 0.72289157 0.6835443 ] 0.7340399114711256 65\n",
            "[0.8        0.73809524 0.76190476 0.76923077 0.72941176] 0.7597285067873304 70\n",
            "[0.8        0.74418605 0.76744186 0.72289157 0.72941176] 0.7527862475895375 75\n",
            "[0.78571429 0.74418605 0.76744186 0.75       0.72941176] 0.7553507914793824 80\n",
            "[0.78571429 0.73809524 0.76744186 0.75       0.72941176] 0.7541326297961045 85\n",
            "[0.8        0.73809524 0.76744186 0.75       0.72941176] 0.7569897726532474 90\n",
            "[0.78571429 0.73809524 0.76744186 0.75       0.72941176] 0.7541326297961045 95\n",
            "[0.8        0.73809524 0.76744186 0.75       0.72941176] 0.7569897726532474 100\n",
            "[0.81395349 0.75294118 0.76744186 0.75       0.72941176] 0.762749658002736 105\n",
            "[0.81395349 0.75862069 0.73684211 0.75       0.72941176] 0.7577656095992611 110\n",
            "[0.81395349 0.75862069 0.76744186 0.69767442 0.72941176] 0.753420444360583 115\n",
            "[0.81395349 0.75862069 0.76744186 0.69767442 0.72941176] 0.753420444360583 120\n",
            "[0.81395349 0.76086957 0.7816092  0.69767442 0.72941176] 0.7567036864604633 125\n",
            "[0.81395349 0.76086957 0.7816092  0.6741573  0.72941176] 0.7520002634136904 130\n",
            "[0.81395349 0.76086957 0.8        0.6741573  0.72941176] 0.7556784243332306 135\n",
            "[0.81818182 0.76086957 0.75789474 0.6741573  0.72941176] 0.7481030376635968 140\n",
            "[0.81818182 0.76086957 0.75789474 0.67391304 0.72941176] 0.7480541856850916 145\n",
            "[0.79120879 0.76086957 0.73469388 0.67391304 0.72941176] 0.7380194084322692 150\n",
            "[0.79120879 0.76086957 0.73469388 0.67391304 0.72727273] 0.7375916009456382 155\n",
            "[0.79120879 0.76086957 0.73469388 0.68817204 0.72727273] 0.7404434008521366 160\n",
            "[0.7826087  0.74468085 0.73469388 0.68817204 0.71910112] 0.7338513181746564 165\n",
            "[0.7628866  0.74468085 0.73469388 0.68817204 0.72727273] 0.7315412193672949 170\n",
            "[0.74747475 0.74468085 0.73469388 0.68817204 0.76595745] 0.7361957931817722 175\n",
            "[0.74747475 0.72916667 0.73469388 0.68817204 0.75      ] 0.7299014669406374 180\n",
            "[0.74747475 0.73469388 0.73469388 0.68817204 0.74226804] 0.7294605173649309 185\n",
            "[0.74747475 0.73469388 0.73469388 0.68817204 0.74226804] 0.7294605173649309 190\n",
            "[0.74747475 0.73469388 0.73469388 0.68817204 0.74226804] 0.7294605173649309 195\n"
          ]
        }
      ]
    },
    {
      "cell_type": "code",
      "source": [
        "# melhor resultado\n",
        "realizarKfoldKnn(105, SPLITS, X, y, kf)"
      ],
      "metadata": {
        "colab": {
          "base_uri": "https://localhost:8080/"
        },
        "id": "q8vCm_eleliB",
        "outputId": "3b534acb-ce18-4f8e-d3e1-529772415175"
      },
      "execution_count": null,
      "outputs": [
        {
          "output_type": "stream",
          "name": "stdout",
          "text": [
            "[0.81395349 0.75294118 0.76744186 0.75       0.72941176] 0.762749658002736 105\n"
          ]
        }
      ]
    },
    {
      "cell_type": "code",
      "source": [
        "kf = KFold(n_splits=SPLITS)\n",
        "kf.get_n_splits(X)\n",
        "\n",
        "def realizarLogReg(SPLITS, X, y, kf): \n",
        "  f1_lr = []\n",
        "  model_logreg = LogisticRegression()\n",
        "  for train_index, test_index in kf.split(X):\n",
        "    X_treino, X_teste = X[train_index,:], X[test_index,:]\n",
        "    y_treino, y_teste = y[train_index], y[test_index]\n",
        "    model_logreg.fit(X_treino, y_treino)\n",
        "    y_predict = model_logreg.predict(X_teste)\n",
        "    f1_lr.append(metrics.f1_score(y_teste,y_predict))\n",
        "  f1_lr = np.array(f1_lr)\n",
        "  print(f1_lr, f1_lr.mean())\n",
        "\n",
        "realizarLogReg(SPLITS, X, y, kf)"
      ],
      "metadata": {
        "colab": {
          "base_uri": "https://localhost:8080/"
        },
        "id": "dmzziwYRRRVc",
        "outputId": "5a703826-1a8e-43c7-ff08-1d820ffdd243"
      },
      "execution_count": null,
      "outputs": [
        {
          "output_type": "stream",
          "name": "stdout",
          "text": [
            "[0.825      0.68421053 0.70422535 0.76470588 0.71052632] 0.7377336153141761\n"
          ]
        }
      ]
    },
    {
      "cell_type": "code",
      "source": [
        "kf = KFold(n_splits=SPLITS)\n",
        "kf.get_n_splits(X)\n",
        "\n",
        "def realizarRF(p1, p2, SPLITS, X, y, kf): \n",
        "  f1_rf = []\n",
        "  model_rf = RandomForestClassifier(n_estimators=p1,max_depth=p2)\n",
        "  for train_index, test_index in kf.split(X):\n",
        "    X_treino, X_teste = X[train_index,:], X[test_index,:]\n",
        "    y_treino, y_teste = y[train_index], y[test_index]\n",
        "    model_rf.fit(X_treino, y_treino)\n",
        "    y_predict = model_rf.predict(X_teste)\n",
        "    f1_rf.append(metrics.f1_score(y_teste,y_predict))\n",
        "  f1_rf = np.array(f1_rf)\n",
        "  print(f1_rf, f1_rf.mean())\n",
        "\n",
        "\n",
        "realizarRF(50, 2, SPLITS, X, y, kf)\n",
        "realizarRF(50, 3, SPLITS, X, y, kf)\n",
        "realizarRF(50, 4, SPLITS, X, y, kf)\n",
        "realizarRF(50, 5, SPLITS, X, y, kf)\n",
        "\n",
        "realizarRF(100, 2, SPLITS, X, y, kf)\n",
        "realizarRF(100, 3, SPLITS, X, y, kf)\n",
        "realizarRF(100, 4, SPLITS, X, y, kf)\n",
        "realizarRF(100, 5, SPLITS, X, y, kf)\n",
        "\n",
        "realizarRF(150, 2, SPLITS, X, y, kf)\n",
        "realizarRF(150, 3, SPLITS, X, y, kf)\n",
        "realizarRF(150, 4, SPLITS, X, y, kf)\n",
        "realizarRF(150, 5, SPLITS, X, y, kf)\n"
      ],
      "metadata": {
        "colab": {
          "base_uri": "https://localhost:8080/"
        },
        "id": "hbSehwkWXmNL",
        "outputId": "870e8fdc-cc50-4b9c-ae67-1a3f5ecbbbee"
      },
      "execution_count": null,
      "outputs": [
        {
          "output_type": "stream",
          "name": "stdout",
          "text": [
            "[0.81395349 0.75294118 0.76744186 0.75       0.6835443 ] 0.7535761658210532\n",
            "[0.81481481 0.71604938 0.73684211 0.78947368 0.7012987 ] 0.7516957376606499\n",
            "[0.81012658 0.71604938 0.73684211 0.74285714 0.71052632] 0.743280305780861\n",
            "[0.81012658 0.6835443  0.75       0.78947368 0.72      ] 0.7506289140572951\n",
            "[0.81927711 0.71604938 0.76744186 0.75       0.6835443 ] 0.7472625310824738\n",
            "[0.825      0.71604938 0.76744186 0.74285714 0.69230769] 0.7487312156692002\n",
            "[0.825      0.71794872 0.75       0.75       0.7012987 ] 0.7488494838494838\n",
            "[0.81012658 0.7012987  0.73972603 0.76923077 0.71052632] 0.7461816791989371\n",
            "[0.82352941 0.71604938 0.76744186 0.75       0.69230769] 0.7498656694507128\n",
            "[0.81012658 0.71604938 0.73684211 0.74285714 0.7012987 ] 0.7414347828827065\n",
            "[0.825      0.71794872 0.74666667 0.76923077 0.7012987 ] 0.7520289710289709\n",
            "[0.825      0.7        0.75       0.78947368 0.72      ] 0.7568947368421052\n"
          ]
        }
      ]
    },
    {
      "cell_type": "code",
      "source": [
        "#melhor resultado\n",
        "realizarRF(150, 5, SPLITS, X, y, kf)"
      ],
      "metadata": {
        "colab": {
          "base_uri": "https://localhost:8080/"
        },
        "id": "7SUwsKY1fiFG",
        "outputId": "fd1fb711-89ad-40bf-b73e-ef0426c24844"
      },
      "execution_count": null,
      "outputs": [
        {
          "output_type": "stream",
          "name": "stdout",
          "text": [
            "[0.825      0.71604938 0.75       0.78787879 0.72      ] 0.7597856341189674\n"
          ]
        }
      ]
    },
    {
      "cell_type": "markdown",
      "source": [
        "Como visto anteriormente o modelo, dentre os testados e com as escolhas de hiperparâmetros feita, que melhor prevê o resultado é o KNN com 105 vizinhos\n",
        "e ele obteve um fator F1 de 0.762749658002736.\n",
        "Para validar o classificador utilizaremos ele para classificar os 20% de teste da base e verificar se o classificador proposto é interessante. \n",
        "\n"
      ],
      "metadata": {
        "id": "PmnLWhfffyHo"
      }
    },
    {
      "cell_type": "code",
      "source": [
        "def realizarKnn(vizinhos, X, y): \n",
        "  model_knn = KNeighborsRegressor(n_neighbors=vizinhos)\n",
        "  model_knn.fit(X, y)\n",
        "  return model_knn\n",
        "\n",
        "model = realizarKnn(105, X, y)\n",
        "y_predict = model.predict(X_final_test).round()\n",
        "print(metrics.f1_score(y_final_test,y_predict))"
      ],
      "metadata": {
        "colab": {
          "base_uri": "https://localhost:8080/"
        },
        "id": "d2K_3X3Jhn85",
        "outputId": "9b9cc131-0e67-4faf-c6ee-76403e39475c"
      },
      "execution_count": null,
      "outputs": [
        {
          "output_type": "stream",
          "name": "stdout",
          "text": [
            "0.7469879518072288\n"
          ]
        }
      ]
    },
    {
      "cell_type": "markdown",
      "source": [
        "# Conclusão"
      ],
      "metadata": {
        "id": "dLGG2aaQIVeA"
      }
    },
    {
      "cell_type": "markdown",
      "source": [
        "Partindo de uma suposição com base nos gráficos obtidos na análise exploratória e depois com a realização  dos testes de hipótese e da classificação, concluímos que a região de origem de um time e o lado em que ele joga influenciam na probabilidade de obter uma vitória. O mesmo não pôde ser observado em relação aos campeões selecionados pela equipe. "
      ],
      "metadata": {
        "id": "MUPlEcq6IZUI"
      }
    }
  ]
}